{
 "cells": [
  {
   "cell_type": "markdown",
   "metadata": {},
   "source": [
    "# Unit-1️⃣"
   ]
  },
  {
   "cell_type": "markdown",
   "metadata": {},
   "source": [
    "# Identifiers"
   ]
  },
  {
   "cell_type": "markdown",
   "metadata": {},
   "source": [
    "A name in python programming is called identifier.\n",
    "\n",
    "it can be calss name or function name or module name or variable name.\n",
    "\n",
    "eg: a=10"
   ]
  },
  {
   "cell_type": "markdown",
   "metadata": {},
   "source": [
    "# Rules to Define identifiers in Python"
   ]
  },
  {
   "cell_type": "markdown",
   "metadata": {},
   "source": [
    "1. The only allowed caharacters in python\n",
    "\n",
    "    Alphabet Symbols (lower or uppercase)\n",
    "    \n",
    "    digits( o to 9)\n",
    "    \n",
    "    underscore symbol ( _ )\n",
    "\n",
    "eg: cash=10 --> Valid\n",
    "\n",
    "    ca$h=15 --> Invalid\n",
    "    \n",
    "    kloh =30 --> Valid\n",
    "    \n",
    "    10kh= 12 --> Invalid\n",
    "\n",
    "\n",
    "2. Identifier should not start with digit.\n",
    "\n",
    "\n",
    "3. Identifiers are case sensitive.\n",
    "\n",
    "\n",
    "4. We can not use reserved words as \n",
    "\n",
    "    True=10 --> Invalid\n",
    "    \n",
    "    true=10 --> Valid\n",
    "    \n",
    "    \n",
    "5. There is no length for python identifier but not recommended to use lengthy name.\n",
    "\n",
    "\n",
    "6. if identifier starts with Undescore( _ ) then it is private.\n",
    "    \n",
    "    eg: _a=10\n",
    "    \n",
    "7. if identifiers starts with double Undescore( _ ) then it is Strongly private identifier.\n",
    " \n",
    "    eg: __a=10\n",
    "    \n",
    "    \n",
    "8. if identifer starts and ends with double underscore then it is language defined special name. it is also called magic methods.\n",
    "\n",
    "    eg:__ add__\n"
   ]
  },
  {
   "cell_type": "markdown",
   "metadata": {},
   "source": [
    "# Data types"
   ]
  },
  {
   "cell_type": "markdown",
   "metadata": {},
   "source": [
    "1.Text Types: str\n",
    "\n",
    "2.Numeric types: int ,float,complex\n",
    "\n",
    "3.Sequence types: list ,tuple, range\n",
    "\n",
    "4.Mapping types :dict\n",
    "\n",
    "5.Set types : set,FrozenSet\n",
    "\n",
    "6.boolean type : bool\n",
    "\n",
    "7.Binary type: bytes ,byte arrray"
   ]
  },
  {
   "cell_type": "markdown",
   "metadata": {},
   "source": [
    "### To find data type"
   ]
  },
  {
   "cell_type": "code",
   "execution_count": 3,
   "metadata": {},
   "outputs": [
    {
     "name": "stdout",
     "output_type": "stream",
     "text": [
      "<class 'int'>\n",
      "<class 'float'>\n"
     ]
    }
   ],
   "source": [
    "a=10\n",
    "b=10.5\n",
    "print(type(a))\n",
    "print(type(b))"
   ]
  },
  {
   "cell_type": "markdown",
   "metadata": {},
   "source": [
    "#### Loop Example"
   ]
  },
  {
   "cell_type": "code",
   "execution_count": 90,
   "metadata": {},
   "outputs": [
    {
     "name": "stdout",
     "output_type": "stream",
     "text": [
      "Loop 1\n",
      "Loop 2\n",
      "Loop 3\n",
      "Loop 4\n",
      "Loop 5\n",
      "Loop 6\n",
      "Loop 7\n",
      "Loop 8\n",
      "Loop 9\n",
      "Loop 10\n",
      "Loop ended\n"
     ]
    }
   ],
   "source": [
    "for i in range(1,11):\n",
    "    print(\"Loop\",i)\n",
    "print(\"Loop ended\")"
   ]
  },
  {
   "cell_type": "markdown",
   "metadata": {},
   "source": [
    "### Text Type: str"
   ]
  },
  {
   "cell_type": "code",
   "execution_count": 13,
   "metadata": {},
   "outputs": [
    {
     "name": "stdout",
     "output_type": "stream",
     "text": [
      "Arman Arman's house Identifiers are case sensitive. \n",
      "    In python.\n",
      "    Also in Java.\n"
     ]
    }
   ],
   "source": [
    "#Single line comment\n",
    "''' It is multi line\n",
    "    line 1\n",
    "    line 2\n",
    "   Comment.'''\n",
    "\n",
    "s1=\"Arman\"\n",
    "s2=\"Arman's house\"\n",
    "s3='''Identifiers are case sensitive. \n",
    "    In python.\n",
    "    Also in Java.'''\n",
    "print(s1,s2,s3)"
   ]
  },
  {
   "cell_type": "markdown",
   "metadata": {},
   "source": [
    "### Numeric Type: int ,float"
   ]
  },
  {
   "cell_type": "code",
   "execution_count": 23,
   "metadata": {},
   "outputs": [
    {
     "name": "stdout",
     "output_type": "stream",
     "text": [
      "<class 'int'>\n",
      "<class 'float'>\n",
      "<class 'float'>\n",
      "<class 'float'>\n"
     ]
    }
   ],
   "source": [
    "x=1\n",
    "y=35.565\n",
    "z=-3625.55\n",
    "a=36e1\n",
    "print(type(x))\n",
    "print(type(y))\n",
    "print(type(z))\n",
    "print(type(a)) #whenever e is used it will be considered as Float."
   ]
  },
  {
   "cell_type": "markdown",
   "metadata": {},
   "source": [
    "1. Decimal Form"
   ]
  },
  {
   "cell_type": "code",
   "execution_count": 30,
   "metadata": {},
   "outputs": [
    {
     "name": "stdout",
     "output_type": "stream",
     "text": [
      "1111\n"
     ]
    }
   ],
   "source": [
    "a=1111\n",
    "print(a)"
   ]
  },
  {
   "cell_type": "code",
   "execution_count": null,
   "metadata": {},
   "outputs": [],
   "source": []
  },
  {
   "cell_type": "markdown",
   "metadata": {},
   "source": [
    "2.Binary Form"
   ]
  },
  {
   "cell_type": "code",
   "execution_count": 26,
   "metadata": {},
   "outputs": [
    {
     "name": "stdout",
     "output_type": "stream",
     "text": [
      "15 15\n"
     ]
    }
   ],
   "source": [
    "a=0B1111\n",
    "#or\n",
    "b=0b1111\n",
    "print(a,b)"
   ]
  },
  {
   "cell_type": "code",
   "execution_count": null,
   "metadata": {},
   "outputs": [],
   "source": []
  },
  {
   "cell_type": "markdown",
   "metadata": {},
   "source": [
    "3.Octal Form"
   ]
  },
  {
   "cell_type": "code",
   "execution_count": 28,
   "metadata": {},
   "outputs": [
    {
     "name": "stdout",
     "output_type": "stream",
     "text": [
      "585 585\n"
     ]
    }
   ],
   "source": [
    "a=0O1111\n",
    "#or\n",
    "b=0o1111\n",
    "print(a,b)"
   ]
  },
  {
   "cell_type": "code",
   "execution_count": null,
   "metadata": {},
   "outputs": [],
   "source": []
  },
  {
   "cell_type": "markdown",
   "metadata": {},
   "source": [
    "4. Hexa Decimal"
   ]
  },
  {
   "cell_type": "code",
   "execution_count": 31,
   "metadata": {},
   "outputs": [
    {
     "name": "stdout",
     "output_type": "stream",
     "text": [
      "4369 4369\n"
     ]
    }
   ],
   "source": [
    "a=0X1111\n",
    "#or\n",
    "b=0x1111\n",
    "print(a,b)"
   ]
  },
  {
   "cell_type": "markdown",
   "metadata": {},
   "source": [
    "### Base conversion"
   ]
  },
  {
   "cell_type": "markdown",
   "metadata": {},
   "source": [
    "1.bin()"
   ]
  },
  {
   "cell_type": "code",
   "execution_count": 42,
   "metadata": {},
   "outputs": [
    {
     "data": {
      "text/plain": [
       "'0b1111'"
      ]
     },
     "execution_count": 42,
     "metadata": {},
     "output_type": "execute_result"
    }
   ],
   "source": [
    "bin(15)"
   ]
  },
  {
   "cell_type": "code",
   "execution_count": 41,
   "metadata": {},
   "outputs": [
    {
     "data": {
      "text/plain": [
       "'0b1001'"
      ]
     },
     "execution_count": 41,
     "metadata": {},
     "output_type": "execute_result"
    }
   ],
   "source": [
    "bin(0o11)"
   ]
  },
  {
   "cell_type": "code",
   "execution_count": 44,
   "metadata": {},
   "outputs": [
    {
     "data": {
      "text/plain": [
       "'0b10100001'"
      ]
     },
     "execution_count": 44,
     "metadata": {},
     "output_type": "execute_result"
    }
   ],
   "source": [
    "bin(0XA1)"
   ]
  },
  {
   "cell_type": "code",
   "execution_count": null,
   "metadata": {},
   "outputs": [],
   "source": []
  },
  {
   "cell_type": "markdown",
   "metadata": {},
   "source": [
    "2.oct()"
   ]
  },
  {
   "cell_type": "code",
   "execution_count": 45,
   "metadata": {},
   "outputs": [
    {
     "data": {
      "text/plain": [
       "'0o17'"
      ]
     },
     "execution_count": 45,
     "metadata": {},
     "output_type": "execute_result"
    }
   ],
   "source": [
    "oct(15)"
   ]
  },
  {
   "cell_type": "code",
   "execution_count": 46,
   "metadata": {},
   "outputs": [
    {
     "data": {
      "text/plain": [
       "'0o7'"
      ]
     },
     "execution_count": 46,
     "metadata": {},
     "output_type": "execute_result"
    }
   ],
   "source": [
    "oct(0b111)"
   ]
  },
  {
   "cell_type": "code",
   "execution_count": 47,
   "metadata": {},
   "outputs": [
    {
     "data": {
      "text/plain": [
       "'0o5421'"
      ]
     },
     "execution_count": 47,
     "metadata": {},
     "output_type": "execute_result"
    }
   ],
   "source": [
    "oct(0XB11)"
   ]
  },
  {
   "cell_type": "code",
   "execution_count": null,
   "metadata": {},
   "outputs": [],
   "source": []
  },
  {
   "cell_type": "markdown",
   "metadata": {},
   "source": [
    "3.hex()"
   ]
  },
  {
   "cell_type": "code",
   "execution_count": 48,
   "metadata": {},
   "outputs": [
    {
     "data": {
      "text/plain": [
       "'0xf'"
      ]
     },
     "execution_count": 48,
     "metadata": {},
     "output_type": "execute_result"
    }
   ],
   "source": [
    "hex(15)"
   ]
  },
  {
   "cell_type": "code",
   "execution_count": 49,
   "metadata": {},
   "outputs": [
    {
     "data": {
      "text/plain": [
       "'0x3'"
      ]
     },
     "execution_count": 49,
     "metadata": {},
     "output_type": "execute_result"
    }
   ],
   "source": [
    "hex(0B11)"
   ]
  },
  {
   "cell_type": "code",
   "execution_count": 51,
   "metadata": {},
   "outputs": [
    {
     "data": {
      "text/plain": [
       "'0x39'"
      ]
     },
     "execution_count": 51,
     "metadata": {},
     "output_type": "execute_result"
    }
   ],
   "source": [
    "hex(0o71)"
   ]
  },
  {
   "cell_type": "markdown",
   "metadata": {},
   "source": [
    "### Sequence Type: List,Tuple"
   ]
  },
  {
   "cell_type": "markdown",
   "metadata": {},
   "source": [
    "1.List"
   ]
  },
  {
   "cell_type": "markdown",
   "metadata": {},
   "source": [
    "--> Ordered \n",
    "\n",
    "--> changeable\n",
    "\n",
    "--> allow duplicates indexed"
   ]
  },
  {
   "cell_type": "code",
   "execution_count": null,
   "metadata": {},
   "outputs": [],
   "source": []
  },
  {
   "cell_type": "code",
   "execution_count": 66,
   "metadata": {},
   "outputs": [
    {
     "name": "stdout",
     "output_type": "stream",
     "text": [
      "['Apple', 'bananna', 'cherry']\n",
      "['apple', 1, 2, True, False]\n",
      "['strawberry', 'bananna', 'cherry']\n"
     ]
    }
   ],
   "source": [
    "list1=[\"Apple\",\"bananna\",'cherry']\n",
    "print(list1)\n",
    "\n",
    "list2=[\"apple\",1,2,True,False]\n",
    "print(list2)\n",
    "\n",
    "#Mutable\n",
    "list1[0]='strawberry'\n",
    "print(list1)"
   ]
  },
  {
   "cell_type": "code",
   "execution_count": null,
   "metadata": {},
   "outputs": [],
   "source": []
  },
  {
   "cell_type": "markdown",
   "metadata": {},
   "source": [
    "2.Tuple"
   ]
  },
  {
   "cell_type": "code",
   "execution_count": null,
   "metadata": {},
   "outputs": [],
   "source": []
  },
  {
   "cell_type": "markdown",
   "metadata": {},
   "source": [
    "--> Ordered \n",
    "\n",
    "--> Unchangeable\n",
    "\n",
    "--> allow duplicates indexed"
   ]
  },
  {
   "cell_type": "code",
   "execution_count": null,
   "metadata": {},
   "outputs": [],
   "source": []
  },
  {
   "cell_type": "code",
   "execution_count": 67,
   "metadata": {},
   "outputs": [
    {
     "name": "stdout",
     "output_type": "stream",
     "text": [
      "('apple', 'banana', 'cherry')\n",
      "('abcd', 3, True, False)\n"
     ]
    }
   ],
   "source": [
    "my_tuple=(\"apple\",\"banana\",\"cherry\")\n",
    "print(my_tuple)\n",
    "\n",
    "tuple2=(\"abcd\",3,True,False)\n",
    "print(tuple2)\n",
    "\n",
    "#Imutable\n",
    "#my_tuple[0]=\"Strawbeery\"\n",
    "#print(my_tuple)"
   ]
  },
  {
   "cell_type": "code",
   "execution_count": null,
   "metadata": {},
   "outputs": [],
   "source": []
  },
  {
   "cell_type": "markdown",
   "metadata": {},
   "source": [
    "### Mappng Type: dict"
   ]
  },
  {
   "cell_type": "markdown",
   "metadata": {},
   "source": [
    "--> Ordered \n",
    "\n",
    "--> changeable\n",
    "\n",
    "--> last duplicate key will be considered and it will be replaced with original key."
   ]
  },
  {
   "cell_type": "code",
   "execution_count": null,
   "metadata": {},
   "outputs": [],
   "source": []
  },
  {
   "cell_type": "code",
   "execution_count": 77,
   "metadata": {},
   "outputs": [
    {
     "name": "stdout",
     "output_type": "stream",
     "text": [
      "{10: 'Ben', 7: 'Thala', 8: 'wonders', 1: 'CR7', '': '11'}\n",
      "Ben\n",
      "Thala\n",
      "wonders\n"
     ]
    }
   ],
   "source": [
    "d={10:\"Ben\",7:\"Thala\",8:\"wonders\",1:\"CR7\",\"\":\"11\"}\n",
    "\n",
    "print(d)\n",
    "\n",
    "print(d[10])\n",
    "\n",
    "print(d[7])\n",
    "\n",
    "print(d[8])"
   ]
  },
  {
   "cell_type": "code",
   "execution_count": null,
   "metadata": {},
   "outputs": [],
   "source": []
  },
  {
   "cell_type": "markdown",
   "metadata": {},
   "source": [
    "### Set Type"
   ]
  },
  {
   "cell_type": "markdown",
   "metadata": {},
   "source": [
    "--> Unordered .\n",
    "\n",
    "--> Changeable.\n",
    "\n",
    "--> no duplicate value allowed.\n",
    "\n",
    "--> repeating value won't be considered.\n",
    "\n",
    "--> In frozen set order of values cannot be changed."
   ]
  },
  {
   "cell_type": "code",
   "execution_count": 83,
   "metadata": {},
   "outputs": [
    {
     "name": "stdout",
     "output_type": "stream",
     "text": [
      "{1, 2, 3, 4, 5, 6, 7, 9}\n",
      "{'banana', 'apple'}\n",
      "frozenset({'hi', 'nice', 'Bye'})\n"
     ]
    }
   ],
   "source": [
    "x={1,2,3,4,5,6,9,7,2,3}\n",
    "print(x)\n",
    "y={'apple','banana','apple','banana'}\n",
    "print(y)\n",
    "list=[\"hi\",\"nice\",\"Bye\"]\n",
    "z=frozenset(list)\n",
    "print(z)"
   ]
  },
  {
   "cell_type": "code",
   "execution_count": null,
   "metadata": {},
   "outputs": [],
   "source": []
  },
  {
   "cell_type": "code",
   "execution_count": null,
   "metadata": {},
   "outputs": [],
   "source": []
  },
  {
   "cell_type": "markdown",
   "metadata": {},
   "source": [
    "### Boolean Type: bool "
   ]
  },
  {
   "cell_type": "code",
   "execution_count": 104,
   "metadata": {},
   "outputs": [
    {
     "name": "stdout",
     "output_type": "stream",
     "text": [
      "False\n",
      "True\n",
      "True\n",
      "False\n",
      "True\n",
      "False\n",
      "False\n"
     ]
    }
   ],
   "source": [
    "print(bool(0))\n",
    "\n",
    "print(bool(1))\n",
    "\n",
    "print(bool(\"abc\"))\n",
    "\n",
    "print(bool(\"\")) #empty String =False\n",
    "\n",
    "print(bool(20>8))\n",
    "\n",
    "print(bool(20<8))\n",
    "\n",
    "print(bool(20==8))"
   ]
  },
  {
   "cell_type": "code",
   "execution_count": null,
   "metadata": {},
   "outputs": [],
   "source": []
  },
  {
   "cell_type": "markdown",
   "metadata": {},
   "source": [
    "# Key Words "
   ]
  },
  {
   "cell_type": "code",
   "execution_count": 88,
   "metadata": {},
   "outputs": [],
   "source": [
    "#  True    is    for       yield    assert\n",
    "#  False   if    break     try      import   \n",
    "#  None    elif  Continue  except   lambda\n",
    "#  from    and   else      return   finally\n",
    "#  as      or    while     in       raise\n",
    "#  class   not   nonlocal  def      global\n",
    "#  pass    del   with      "
   ]
  },
  {
   "cell_type": "code",
   "execution_count": 103,
   "metadata": {
    "collapsed": true
   },
   "outputs": [
    {
     "name": "stdout",
     "output_type": "stream",
     "text": [
      "10 10 \n"
     ]
    },
    {
     "data": {
      "text/plain": [
       "'a a a a '"
      ]
     },
     "execution_count": 103,
     "metadata": {},
     "output_type": "execute_result"
    }
   ],
   "source": [
    "#Repetition\n",
    "\n",
    "a=\"10 \"\n",
    "b=2\n",
    "print(a*b)\n",
    "\"a \"*b*(int)(6/3)"
   ]
  },
  {
   "cell_type": "markdown",
   "metadata": {},
   "source": [
    "# Global Variable Vs Local variable "
   ]
  },
  {
   "cell_type": "code",
   "execution_count": 5,
   "metadata": {},
   "outputs": [
    {
     "name": "stdout",
     "output_type": "stream",
     "text": [
      "Java\n",
      "Python\n"
     ]
    }
   ],
   "source": [
    "a=\"Python\"\n",
    "def test():\n",
    "    # print(a) it will give LocalBound Error\n",
    "    a=\"Java\"\n",
    "    print(a)\n",
    "test()\n",
    "print(a)"
   ]
  },
  {
   "cell_type": "code",
   "execution_count": 6,
   "metadata": {},
   "outputs": [
    {
     "name": "stdout",
     "output_type": "stream",
     "text": [
      "Java\n",
      "Java\n"
     ]
    }
   ],
   "source": [
    "a=\"Python\"\n",
    "def test():\n",
    "    global a # Now it will use global variable\n",
    "    a=\"Java\"\n",
    "    print(a)\n",
    "test()\n",
    "print(a)"
   ]
  },
  {
   "cell_type": "markdown",
   "metadata": {},
   "source": [
    "## Reading user Input"
   ]
  },
  {
   "cell_type": "code",
   "execution_count": 1,
   "metadata": {},
   "outputs": [
    {
     "name": "stdout",
     "output_type": "stream",
     "text": [
      "Enter string: Meet\n",
      "Enter int: 5\n",
      "Enter float: 100.2\n",
      "Meet 5 100.2\n"
     ]
    }
   ],
   "source": [
    "x=input(\"Enter string: \") #By defult in String\n",
    "y=int(input(\"Enter int: \"))\n",
    "z=float(input(\"Enter float: \"))\n",
    "print(x,y,z)"
   ]
  },
  {
   "cell_type": "markdown",
   "metadata": {},
   "source": [
    "#### Task "
   ]
  },
  {
   "cell_type": "code",
   "execution_count": 1,
   "metadata": {},
   "outputs": [
    {
     "name": "stdout",
     "output_type": "stream",
     "text": [
      "Enter first number: 5\n",
      "Enter second number: 10\n",
      "Sum:  15\n"
     ]
    }
   ],
   "source": [
    "a=int(input(\"Enter first number: \"))\n",
    "b=int(input(\"Enter second number: \"))\n",
    "print(\"Sum: \",a+b)"
   ]
  },
  {
   "cell_type": "markdown",
   "metadata": {},
   "source": [
    "## Type Casting"
   ]
  },
  {
   "cell_type": "code",
   "execution_count": 9,
   "metadata": {},
   "outputs": [
    {
     "name": "stdout",
     "output_type": "stream",
     "text": [
      "123\n",
      "1\n",
      "0\n",
      "10\n"
     ]
    }
   ],
   "source": [
    "print(int(123.123))\n",
    "print(int(True))\n",
    "print(int(False))      \n",
    "print(int(\"10\") )      \n",
    "#print(int(\"10.5\"))  ValueError    \n",
    "#print(int(\"0B111\")) ValueError         "
   ]
  },
  {
   "cell_type": "code",
   "execution_count": 11,
   "metadata": {},
   "outputs": [
    {
     "name": "stdout",
     "output_type": "stream",
     "text": [
      "10.0\n",
      "1.0\n",
      "0.0\n",
      "0.0\n",
      "10.0\n",
      "10.5\n"
     ]
    }
   ],
   "source": [
    "print(float(10))\n",
    "print(float(True))\n",
    "print(float(False))\n",
    "print(float(0.0))\n",
    "print(float(\"10\"))\n",
    "print(float(\"10.5\"))\n",
    "#print(float(\"ten\")) ValueError    \n",
    "#print(float(\"0B111\"))ValueError    "
   ]
  },
  {
   "cell_type": "code",
   "execution_count": 21,
   "metadata": {},
   "outputs": [
    {
     "name": "stdout",
     "output_type": "stream",
     "text": [
      "False\n",
      "True\n",
      "True\n",
      "True\n",
      "True\n",
      "False\n",
      "True\n",
      "True\n",
      "False\n"
     ]
    }
   ],
   "source": [
    "print(bool(0))\n",
    "print(bool(1))\n",
    "print(bool(10))\n",
    "print(bool(10.5))\n",
    "print(bool(0.178))\n",
    "print(bool(0.0))\n",
    "print(bool(\"True\"))\n",
    "print(bool(\"False\"))\n",
    "print(bool(\"\"))\n",
    "#if anything is there then it will show True else it will show False"
   ]
  },
  {
   "cell_type": "code",
   "execution_count": 35,
   "metadata": {},
   "outputs": [
    {
     "name": "stdout",
     "output_type": "stream",
     "text": [
      "10\n",
      "10.5\n",
      "True\n"
     ]
    }
   ],
   "source": [
    "print(str(10))\n",
    "print(str(10.5))\n",
    "print(str(True))"
   ]
  },
  {
   "cell_type": "markdown",
   "metadata": {},
   "source": [
    "## Arithmethic operators"
   ]
  },
  {
   "cell_type": "code",
   "execution_count": 37,
   "metadata": {},
   "outputs": [],
   "source": [
    "#  +  ---> Addition (str --> Concatenation)\n",
    "#  -  ---> Subtraction \n",
    "#  *  ---> Multiplication (str --> String Multiplication or Repetiton)\n",
    "#  /  ---> Division (answer will be in float)\n",
    "#  %  ---> Modulus\n",
    "#  // ---> Floor Division\n",
    "#  ** ---> Power or Exponent"
   ]
  },
  {
   "cell_type": "code",
   "execution_count": 45,
   "metadata": {},
   "outputs": [
    {
     "name": "stdout",
     "output_type": "stream",
     "text": [
      "Enter input:5\n",
      "Enter input:3\n",
      "\n",
      "Addition : 8\n",
      "Substraction : 2\n",
      "Multiplication : 15\n",
      "Division: 1.6666666666666667\n",
      "Floor Division: 1\n",
      "Modulus: 2\n",
      "Power : 125\n"
     ]
    }
   ],
   "source": [
    "#### Example\n",
    "a=int(input(\"Enter input:\" ))\n",
    "b=int(input(\"Enter input:\" ))\n",
    "print()\n",
    "print(\"Addition :\",a+b)\n",
    "print(\"Substraction :\",a-b)\n",
    "print(\"Multiplication :\",a*b)\n",
    "print(\"Division:\",a/b)\n",
    "print(\"Floor Division:\",a//b)\n",
    "print(\"Modulus:\",a%b)\n",
    "print(\"Power :\",a**b)"
   ]
  },
  {
   "cell_type": "markdown",
   "metadata": {},
   "source": [
    "## Comparison or Relation operators"
   ]
  },
  {
   "cell_type": "code",
   "execution_count": 47,
   "metadata": {},
   "outputs": [],
   "source": [
    "#  >   ---> Greater than\n",
    "#  <   ---> Less than\n",
    "#  >=  ---> Greater than or equal to\n",
    "#  <=  ---> Less than or equal to\n",
    "#  ==  ---> Equal to\n",
    "#  !=  ---> Not Equal to"
   ]
  },
  {
   "cell_type": "code",
   "execution_count": 7,
   "metadata": {},
   "outputs": [
    {
     "name": "stdout",
     "output_type": "stream",
     "text": [
      "Enter input: Aman\n",
      "Enter input: AmAn\n",
      "\n",
      "a>b: True\n",
      "a<b: False\n",
      "a>=b: True\n",
      "a<=b: False\n",
      "a==b: False\n",
      "a!=b: True\n",
      "\n",
      "True\n",
      "True\n",
      "False\n",
      "True\n",
      "False\n"
     ]
    }
   ],
   "source": [
    "a=input(\"Enter input: \")\n",
    "b=input(\"Enter input: \")\n",
    "print()\n",
    "\n",
    "print(\"a>b:\",a>b)\n",
    "print(\"a<b:\",a<b)\n",
    "print(\"a>=b:\",a>b)\n",
    "print(\"a<=b:\",a<=b)\n",
    "print(\"a==b:\",a==b)\n",
    "print(\"a!=b:\",a!=b)\n",
    "print()\n",
    "\n",
    "print(True>=True)\n",
    "print(10>True)\n",
    "print(False>True)\n",
    "print(10<20<30)\n",
    "print(10<20<30>40)"
   ]
  },
  {
   "cell_type": "markdown",
   "metadata": {},
   "source": [
    "## Logical Operators "
   ]
  },
  {
   "cell_type": "markdown",
   "metadata": {},
   "source": [
    "### 1. Boolean Typs Behaviour"
   ]
  },
  {
   "cell_type": "markdown",
   "metadata": {},
   "source": [
    "and --> if both argument are true then only result is true\n",
    "\n",
    "or  --> if atlest one argument is true then result is true\n",
    "\n",
    "not --> Complement\n"
   ]
  },
  {
   "cell_type": "code",
   "execution_count": 8,
   "metadata": {},
   "outputs": [
    {
     "name": "stdout",
     "output_type": "stream",
     "text": [
      "False\n",
      "True\n",
      "True\n"
     ]
    }
   ],
   "source": [
    "# Example:\n",
    "\n",
    "print(True and False)\n",
    "print(True or False)\n",
    "print(not False)"
   ]
  },
  {
   "cell_type": "markdown",
   "metadata": {},
   "source": [
    "### 1. Non-boolean Type Behaviour"
   ]
  },
  {
   "cell_type": "markdown",
   "metadata": {},
   "source": [
    " --> 0 means False\n",
    " \n",
    " --> none-zero means True\n",
    " \n",
    " --> Empty String always treated as False\n",
    " \n",
    " 1. X and Y --> if X is evaluates to False then result is X otherwise result is Y"
   ]
  },
  {
   "cell_type": "code",
   "execution_count": 19,
   "metadata": {},
   "outputs": [
    {
     "name": "stdout",
     "output_type": "stream",
     "text": [
      "20\n",
      "0\n",
      "False\n",
      "20\n",
      "True\n"
     ]
    }
   ],
   "source": [
    "# example:\n",
    "\n",
    "print(10 and 20)\n",
    "print(0 and 20) \n",
    "print(0>1 and 20) \n",
    "print(1>0 and 20)\n",
    "print(1>0 and 1<20)"
   ]
  },
  {
   "cell_type": "markdown",
   "metadata": {},
   "source": [
    "2. X or Y --> if X evaluates to True then result is X otherwise result is "
   ]
  },
  {
   "cell_type": "code",
   "execution_count": 21,
   "metadata": {},
   "outputs": [
    {
     "name": "stdout",
     "output_type": "stream",
     "text": [
      "10\n",
      "20\n",
      "20\n",
      "True\n",
      "True\n"
     ]
    }
   ],
   "source": [
    "# example\n",
    "\n",
    "print(10 or 20)\n",
    "print(0 or 20) \n",
    "print(0>1 or 20) \n",
    "print(1>0 or 20)\n",
    "print(1>0 or 1<20)"
   ]
  },
  {
   "cell_type": "markdown",
   "metadata": {},
   "source": [
    "3. not X --> if X is evaluates to False then result is True else False"
   ]
  },
  {
   "cell_type": "code",
   "execution_count": 22,
   "metadata": {},
   "outputs": [
    {
     "name": "stdout",
     "output_type": "stream",
     "text": [
      "False\n",
      "True\n"
     ]
    }
   ],
   "source": [
    "# Example\n",
    "\n",
    "print(not 10)\n",
    "print(not 0)"
   ]
  },
  {
   "cell_type": "markdown",
   "metadata": {},
   "source": [
    "## Ternary Operators"
   ]
  },
  {
   "cell_type": "markdown",
   "metadata": {},
   "source": [
    "Syntax :  X = first value if condition else second value"
   ]
  },
  {
   "cell_type": "code",
   "execution_count": 23,
   "metadata": {},
   "outputs": [
    {
     "name": "stdout",
     "output_type": "stream",
     "text": [
      "30\n"
     ]
    }
   ],
   "source": [
    "#example\n",
    "\n",
    "a,b=10,20\n",
    "X=30 if a<b else 40\n",
    "print(X)"
   ]
  },
  {
   "cell_type": "markdown",
   "metadata": {},
   "source": [
    "## Assignment Operator"
   ]
  },
  {
   "cell_type": "markdown",
   "metadata": {},
   "source": [
    "x=20\n",
    "\n",
    "x + =10  --> x=x+10\n",
    "\n",
    "x - =10  --> x=x-10\n",
    "\n",
    "x * =10  --> x=x*10\n",
    "\n",
    "x / =10  --> x=x/10\n",
    "\n",
    "x % =10  --> x=x%10\n",
    "\n",
    "x ** =10 --> x=x** 10 \n",
    "\n",
    "x // =10 --> x=x//10"
   ]
  },
  {
   "cell_type": "markdown",
   "metadata": {},
   "source": [
    "## Membership Operators"
   ]
  },
  {
   "cell_type": "markdown",
   "metadata": {},
   "source": [
    "in --> Returns True if given object present in Specific Collection \n",
    "\n",
    "not in --> Returns True if given object is not present in specific Collection"
   ]
  },
  {
   "cell_type": "code",
   "execution_count": 29,
   "metadata": {},
   "outputs": [
    {
     "name": "stdout",
     "output_type": "stream",
     "text": [
      "True\n",
      "False\n",
      "True\n",
      "True\n",
      "False\n"
     ]
    }
   ],
   "source": [
    "# example \n",
    "X= \"Hello Learning Python is very easy\"\n",
    "print(\"l\" in X)\n",
    "print(\"d\" in X)\n",
    "print(\"d\" not in X)\n",
    "print(\"Python\" in X)\n",
    "print(\"python\" in X) #Case sensitive"
   ]
  },
  {
   "cell_type": "markdown",
   "metadata": {},
   "source": [
    "### Precedence"
   ]
  },
  {
   "cell_type": "code",
   "execution_count": 51,
   "metadata": {},
   "outputs": [
    {
     "name": "stdout",
     "output_type": "stream",
     "text": [
      "100.0\n",
      "100.0\n",
      "70.0\n"
     ]
    }
   ],
   "source": [
    "a=30\n",
    "b=20\n",
    "c=10\n",
    "d=5\n",
    "print((a+b)*c/d)\n",
    "print((a+b)*(c/d))\n",
    "print(a+(b*c)/d)"
   ]
  },
  {
   "cell_type": "markdown",
   "metadata": {},
   "source": [
    "## Exercise"
   ]
  },
  {
   "cell_type": "code",
   "execution_count": 56,
   "metadata": {},
   "outputs": [
    {
     "name": "stdout",
     "output_type": "stream",
     "text": [
      "Enter Breadth: 6\n",
      "Enter Height: 4\n",
      "Area of Triangle: 12.0\n"
     ]
    }
   ],
   "source": [
    "# WAP to find the Area of a Triangle.\n",
    "\n",
    "b=int(input(\"Enter Breadth: \"))\n",
    "h=int(input(\"Enter Height: \"))\n",
    "print(\"Area of Triangle:\",0.5*b*h)"
   ]
  },
  {
   "cell_type": "code",
   "execution_count": 57,
   "metadata": {},
   "outputs": [
    {
     "name": "stdout",
     "output_type": "stream",
     "text": [
      "Enter Radius: 10\n",
      "Area of Triangle: 314.1592653589793\n"
     ]
    }
   ],
   "source": [
    "# WAP to find the Area of a Circle.\n",
    "\n",
    "import math\n",
    "r=int(input(\"Enter Radius: \"))\n",
    "print(\"Area of Triangle:\",math.pi*r**2)"
   ]
  },
  {
   "cell_type": "code",
   "execution_count": 1,
   "metadata": {},
   "outputs": [
    {
     "name": "stdout",
     "output_type": "stream",
     "text": [
      "Enter Farenheit : 98\n",
      "Answer C=  36.66666666666667\n",
      "Enter Celsius : 36.666666666667\n",
      "Answer F=  98.0000000000006\n"
     ]
    }
   ],
   "source": [
    "# WAP to Convert the Farenheit to Celsius & vice versa.\n",
    "\n",
    "f=float(input(\"Enter Farenheit : \"))\n",
    "a1=(f-32)*(5/9)\n",
    "print(\"Answer C= \",a1)\n",
    "c=float(input(\"Enter Celsius : \"))\n",
    "a2=(c*(9/5))+32\n",
    "print(\"Answer F= \",a2)"
   ]
  },
  {
   "cell_type": "code",
   "execution_count": 1,
   "metadata": {},
   "outputs": [
    {
     "name": "stdout",
     "output_type": "stream",
     "text": [
      "Enter Days: 366\n",
      "1 0 6\n"
     ]
    }
   ],
   "source": [
    "# WAP to Calculate the year,mont,days from days entered.\n",
    "\n",
    "days=int(input(\"Enter Days: \"))\n",
    "y=days//365\n",
    "m=(days%365)//30\n",
    "d=(days%3365)%30\n",
    "print(y,m,d) \n",
    "\n",
    "#i=int(input(\"Enter Days: \"))\n",
    "#y=i//30\n",
    "#print(y<12 or int(y/12),\"year\")\n",
    "#m=i/12\n",
    "#print(m<0 or int(m/30),\"month\" )\n",
    "#days=m%30\n",
    "#print(days<0 or int(days),\"days\" )"
   ]
  },
  {
   "cell_type": "markdown",
   "metadata": {},
   "source": [
    "### Identity Operator"
   ]
  },
  {
   "cell_type": "code",
   "execution_count": 4,
   "metadata": {},
   "outputs": [
    {
     "name": "stdout",
     "output_type": "stream",
     "text": [
      "True\n",
      "False\n",
      "True\n",
      "True\n",
      "True\n"
     ]
    }
   ],
   "source": [
    "x=5\n",
    "y=5.3\n",
    "z=5\n",
    "print(type(x) is int)\n",
    "print(type(y) is int)\n",
    "print(type(y) is float)\n",
    "print(x is z)\n",
    "print(x is not y)"
   ]
  },
  {
   "cell_type": "markdown",
   "metadata": {},
   "source": [
    "## Precedence Examples "
   ]
  },
  {
   "cell_type": "code",
   "execution_count": 8,
   "metadata": {},
   "outputs": [
    {
     "name": "stdout",
     "output_type": "stream",
     "text": [
      "78125.0\n"
     ]
    }
   ],
   "source": [
    "print((5**3)**2*5/True)"
   ]
  },
  {
   "cell_type": "code",
   "execution_count": 12,
   "metadata": {},
   "outputs": [
    {
     "name": "stdout",
     "output_type": "stream",
     "text": [
      "false\n"
     ]
    }
   ],
   "source": [
    "print(\"1\" in \"123\" and \"false\" or True)"
   ]
  },
  {
   "cell_type": "code",
   "execution_count": 23,
   "metadata": {},
   "outputs": [
    {
     "ename": "ZeroDivisionError",
     "evalue": "division by zero",
     "output_type": "error",
     "traceback": [
      "\u001b[1;31m---------------------------------------------------------------------------\u001b[0m",
      "\u001b[1;31mZeroDivisionError\u001b[0m                         Traceback (most recent call last)",
      "\u001b[1;32m<ipython-input-23-814862a81c41>\u001b[0m in \u001b[0;36m<module>\u001b[1;34m\u001b[0m\n\u001b[1;32m----> 1\u001b[1;33m \u001b[0mprint\u001b[0m\u001b[1;33m(\u001b[0m\u001b[1;36m5\u001b[0m \u001b[1;32mand\u001b[0m \u001b[1;32mFalse\u001b[0m \u001b[1;32mor\u001b[0m \u001b[1;36m3\u001b[0m\u001b[1;33m/\u001b[0m\u001b[1;36m0\u001b[0m\u001b[1;33m)\u001b[0m\u001b[1;33m\u001b[0m\u001b[1;33m\u001b[0m\u001b[0m\n\u001b[0m",
      "\u001b[1;31mZeroDivisionError\u001b[0m: division by zero"
     ]
    }
   ],
   "source": [
    "print(5 and False or 3/0)"
   ]
  },
  {
   "cell_type": "code",
   "execution_count": 24,
   "metadata": {},
   "outputs": [
    {
     "name": "stdout",
     "output_type": "stream",
     "text": [
      "True\n"
     ]
    }
   ],
   "source": [
    "print(5 and True or 3/0)"
   ]
  },
  {
   "cell_type": "code",
   "execution_count": 28,
   "metadata": {},
   "outputs": [
    {
     "name": "stdout",
     "output_type": "stream",
     "text": [
      "0.0\n"
     ]
    }
   ],
   "source": [
    "print(7*5**2/True*False)"
   ]
  },
  {
   "cell_type": "markdown",
   "metadata": {},
   "source": [
    "## Programs"
   ]
  },
  {
   "cell_type": "code",
   "execution_count": 37,
   "metadata": {},
   "outputs": [
    {
     "name": "stdout",
     "output_type": "stream",
     "text": [
      "Enter no: -5\n",
      "Negative\n"
     ]
    }
   ],
   "source": [
    "#WAP to check given number is positive or negative using conditional Operator.\n",
    "\n",
    "x=int(input(\"Enter no: \"))\n",
    "s=\"Negative\" if x<0 else \"Positive\"\n",
    "print(s)"
   ]
  },
  {
   "cell_type": "code",
   "execution_count": 39,
   "metadata": {},
   "outputs": [
    {
     "name": "stdout",
     "output_type": "stream",
     "text": [
      "Enter no: 2\n",
      "Even\n"
     ]
    }
   ],
   "source": [
    "#WAP to check given number is Odd or Even using conditional Operator.\n",
    "\n",
    "x=int(input(\"Enter no: \"))\n",
    "s=\"Odd\" if x%2!=0 else \"Even\"\n",
    "print(s)"
   ]
  },
  {
   "cell_type": "code",
   "execution_count": 43,
   "metadata": {},
   "outputs": [
    {
     "name": "stdout",
     "output_type": "stream",
     "text": [
      "Enter amount: 1020\n",
      "Total notes: 3\n"
     ]
    }
   ],
   "source": [
    "#WAP to find the numbers of notes against given amount.\n",
    "#available notes:10,20,50,100,200,500\n",
    "\n",
    "amount=int(input(\"Enter amount: \"))\n",
    "n1=amount//500\n",
    "n2=(amount%500)//200\n",
    "n3=((amount%500)%200)//100\n",
    "n4=(((amount%500)%200)%100)//50\n",
    "n5=((((amount%500)%200)%100)%50)//20\n",
    "n6=(((((amount%500)%200)%100)%50)%20)//10\n",
    "print(\"Total notes:\",(n1+n2+n3+n4+n5+n6))\n"
   ]
  },
  {
   "cell_type": "code",
   "execution_count": null,
   "metadata": {},
   "outputs": [],
   "source": []
  }
 ],
 "metadata": {
  "kernelspec": {
   "display_name": "Python 3",
   "language": "python",
   "name": "python3"
  },
  "language_info": {
   "codemirror_mode": {
    "name": "ipython",
    "version": 3
   },
   "file_extension": ".py",
   "mimetype": "text/x-python",
   "name": "python",
   "nbconvert_exporter": "python",
   "pygments_lexer": "ipython3",
   "version": "3.8.5"
  }
 },
 "nbformat": 4,
 "nbformat_minor": 4
}

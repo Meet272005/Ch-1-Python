{
 "cells": [
  {
   "cell_type": "markdown",
   "metadata": {},
   "source": [
    "# Programs (Unit-1,2)"
   ]
  },
  {
   "cell_type": "code",
   "execution_count": 6,
   "metadata": {},
   "outputs": [
    {
     "name": "stdout",
     "output_type": "stream",
     "text": [
      "Enter year: 2000\n",
      "leap year \n"
     ]
    }
   ],
   "source": [
    "# 1. WAP to find given year is leap year or not.\n",
    "\n",
    "y=int(input(\"Enter year: \"))\n",
    "s=\"leap year \" if y%4==0 and y%100!=0 or y%400==0 else \"not leap year\" \n",
    "print(s)"
   ]
  },
  {
   "cell_type": "code",
   "execution_count": 11,
   "metadata": {},
   "outputs": [
    {
     "name": "stdout",
     "output_type": "stream",
     "text": [
      "Airthmetic Operations\n",
      "Enter a: 5\n",
      "Enter b: 2\n",
      "choices : + - / * // % **\n",
      "Enter choice: /*/*/*/*\n",
      "a Division b is 2.5\n"
     ]
    }
   ],
   "source": [
    "# 2. WAP to perform airthmetic operations according to the choices given.\n",
    "\n",
    "print(\"Airthmetic Operations\")\n",
    "a=int(input(\"Enter a: \"))\n",
    "b=int(input(\"Enter b: \"))\n",
    "print(\"choices : + - / * // % **\")\n",
    "ch=input(\"Enter choice: \")\n",
    "\n",
    "if \"+\" in ch:\n",
    "    print(\"Addition of a & b is\",a+b)\n",
    "elif \"-\" in ch:\n",
    "    print(\"Subtraction of a & b is\",a-b)\n",
    "elif \"/\" in ch:\n",
    "    print(\"a Division b is\",a/b)\n",
    "elif \"*\" == ch:\n",
    "    print(\"Multiplication of a & b is\",a*b)\n",
    "elif \"//\" in ch:\n",
    "    print(\"Floor Division of a & b is\",a//b)\n",
    "elif \"%\" in ch:\n",
    "    print(\" a Modulo b is\",a%b)\n",
    "elif \"**\" in ch:\n",
    "    print(\"a Power b is\",a**b)"
   ]
  },
  {
   "cell_type": "code",
   "execution_count": 10,
   "metadata": {},
   "outputs": [
    {
     "name": "stdout",
     "output_type": "stream",
     "text": [
      "Enter marks of Subject : 50\n",
      "Enter marks of Subject : 75\n",
      "Enter marks of Subject : 98\n",
      "Percentage is 74.33333333333333  %\n",
      "Result\n",
      "First class\n"
     ]
    }
   ],
   "source": [
    "# 3. WAP to give grade according to marks entered\n",
    "\n",
    "m=0\n",
    "for i in range(3):\n",
    "    a=int(input(\"Enter marks of Subject : \"))\n",
    "    m=m+a\n",
    "m=(m/3)\n",
    "print(\"Percentage is\",m,\" %\")\n",
    "print(\"Result\")\n",
    "if m>=80 and m<=100:\n",
    "    print(\"Distinction\")\n",
    "elif m>=60 and m<=79:\n",
    "    print(\"First class\")\n",
    "elif m>=35 and m<=59:\n",
    "    print(\"Second class\")\n",
    "elif m>=0 and m<=34:\n",
    "    print(\"Fail\")\n",
    "else:\n",
    "    print(\"Enter Valid marks.\")"
   ]
  },
  {
   "cell_type": "code",
   "execution_count": 26,
   "metadata": {},
   "outputs": [
    {
     "name": "stdout",
     "output_type": "stream",
     "text": [
      "Enter units: 400\n",
      "Amount to Pay:  2500\n"
     ]
    }
   ],
   "source": [
    "# 4. WAP to calculate the electric bill based on the number of units entered b user.\n",
    "# First 100 units no chARGE\n",
    "# next 100 units 5 rs charge\n",
    "# next 200 units 10 rs charge\n",
    "\n",
    "unit=int(input(\"Enter units: \"))\n",
    "if unit<=100:\n",
    "   amt=0\n",
    "if unit >100 and unit<=200:\n",
    "   amt=(unit-100)*5\n",
    "if unit>200:\n",
    "  amt=500+(unit-200)*10\n",
    "print(\"Amount to Pay: \",amt)\n",
    "\n",
    "\n",
    "# OR\n",
    "\n",
    "# amount=0\n",
    "# if unit//100!=0:\n",
    "#     print(\"First 100 unit no charge.\")\n",
    "#     unit=unit-100\n",
    "# if unit//100!=0 and unit!=0:\n",
    "#     print(\"Next 100 unit 5 Rs charge.\")\n",
    "#     if unit>=100:\n",
    "#         amount=100*5\n",
    "#         unit=unit-100\n",
    "#         print(\"next 150 unit 10 Rs charge.\")\n",
    "#         amount=amount+unit*10\n",
    "#     else:\n",
    "#         amount=unit*5\n",
    "    \n",
    "# print(\"Bill amount: \",amount)"
   ]
  },
  {
   "cell_type": "code",
   "execution_count": 2,
   "metadata": {},
   "outputs": [
    {
     "name": "stdout",
     "output_type": "stream",
     "text": [
      "Enter number: 216\n",
      "Divisible by 3 \n"
     ]
    }
   ],
   "source": [
    "# 5. WAP to check whether the last digit of number entered by user is divisible 3 or not.\n",
    "\n",
    "ld=int(input(\"Enter number: \"))\n",
    "ld=ld%10\n",
    "s=\"Divisible by 3 \" if ld%3==0 else \"not divisible by 3\"\n",
    "print(s)"
   ]
  },
  {
   "cell_type": "code",
   "execution_count": 9,
   "metadata": {},
   "outputs": [
    {
     "name": "stdout",
     "output_type": "stream",
     "text": [
      "Enter number: 12\n",
      "1\n",
      "Enter 3 digit number\n"
     ]
    }
   ],
   "source": [
    "# 6. WAP to check number entered by user is 3 digit or not.\n",
    "#    if it is then display its middle digit and if not then display \"Enter 3 digit number\"\n",
    "\n",
    "i=int(input(\"Enter number: \"))\n",
    "t=i\n",
    "count=0\n",
    "\n",
    "while i!=0:\n",
    "    count=count+1\n",
    "    i=i//10\n",
    "\n",
    "if count==3:\n",
    "    t=(t//10)%10\n",
    "    print(\"MIDDLE DIGIT IS \",t)\n",
    "else:\n",
    "    print(\"Enter 3 digit number\")"
   ]
  },
  {
   "cell_type": "code",
   "execution_count": 11,
   "metadata": {},
   "outputs": [
    {
     "name": "stdout",
     "output_type": "stream",
     "text": [
      "Enter price: 55000\n",
      "Road Tax:  5500.0\n",
      "Total cost: 60500.0\n"
     ]
    }
   ],
   "source": [
    "# 7. WAP to accept the cost price of a bike and display the road tax to be paid and also display the total cost of the bike.\n",
    "\n",
    "# Cost Price               Tax\n",
    "# >100000                  15%\n",
    "# >50000 and <=100000      10%\n",
    "# <=50000                  5%\n",
    "\n",
    "price=int(input(\"Enter price: \"))\n",
    "tax=0 \n",
    "\n",
    "if price>100000:\n",
    "        tax=price*0.15\n",
    "elif price>50000 and price<=100000:\n",
    "        tax=price*0.10\n",
    "elif price<=50000:\n",
    "        tax=price*0.05\n",
    "else:\n",
    "    print(\"Not Valid\")\n",
    "    \n",
    "print(\"Road Tax: \",tax)\n",
    "print(\"Total cost:\",tax+price)"
   ]
  },
  {
   "cell_type": "code",
   "execution_count": 14,
   "metadata": {},
   "outputs": [
    {
     "name": "stdout",
     "output_type": "stream",
     "text": [
      "Enter working days: 100\n",
      "Enter absent days: 75\n",
      "Attendance percentage:  25.0 %\n",
      "Not eligible for exam\n"
     ]
    }
   ],
   "source": [
    "# 8. WAP to accept the following from the user and calculate the class attendance\n",
    "#         Total no. of working days\n",
    "#         Total no. of days for absent\n",
    "#    After calculating the percentage ,if percentage is greater than 75 display \"your are eligible for exam\" \n",
    "#    and if not display \"your are not eligible for exam\"\n",
    "\n",
    "wd=int(input(\"Enter working days: \"))\n",
    "ad=int(input(\"Enter absent days: \"))\n",
    "\n",
    "if ad>wd:\n",
    "    print(\"Enter valid input\")\n",
    "else:\n",
    "    attendance=((wd-ad)*100)/wd\n",
    "    print(\"Attendance percentage: \",attendance,\"%\")\n",
    "    s=\"Eligible for exam\" if attendance >75 else \"Not eligible for exam\"\n",
    "    print(s)    "
   ]
  },
  {
   "cell_type": "code",
   "execution_count": 22,
   "metadata": {},
   "outputs": [
    {
     "name": "stdout",
     "output_type": "stream",
     "text": [
      "Enter side 1:2\n",
      "Enter side 2:2\n",
      "Enter side 3:5\n",
      "Isosceles\n"
     ]
    }
   ],
   "source": [
    "# 9. WAP to accept the 3 sides of triangle and check wheter it is Equilateral or Isosceles and Scalene\n",
    "  \n",
    "s1=float(input(\"Enter side 1:\"))\n",
    "s2=float(input(\"Enter side 2:\"))\n",
    "s3=float(input(\"Enter side 3:\"))\n",
    "\n",
    "if s1==s2 and s2==s3:\n",
    "    print(\"Equilateral Triangle\")\n",
    "elif s1==s2 or s2==s3 or s1==s3 :\n",
    "    print(\"Isosceles Triangle\")\n",
    "elif s1!=s2 and s2!=s3:\n",
    "    print(\"Scalene Triangle\")"
   ]
  },
  {
   "cell_type": "code",
   "execution_count": 29,
   "metadata": {},
   "outputs": [
    {
     "name": "stdout",
     "output_type": "stream",
     "text": [
      "Enter age: 18\n",
      "Enter gender(M/F): m\n",
      "Enter days: 2\n",
      "Wage:  1400\n"
     ]
    }
   ],
   "source": [
    "# 10. WAP to accept the age, gender ,no. of days and display the wages.\n",
    "\n",
    "#    Age                   Gender                     Wage/day\n",
    "#  >=18 and <30              M                         700\n",
    "#                            F                         750\n",
    "# \n",
    "#  >=30 and <=40             M                         800\n",
    "#                            F                         750\n",
    "\n",
    "# if age is not fall in any range then message dhould be displayed :\"Enter appropriate Age\"\n",
    "\n",
    "age=int(input(\"Enter age: \"))\n",
    "gender=input(\"Enter gender(M/F): \")\n",
    "days=int(input(\"Enter days: \"))\n",
    "wage=0\n",
    "\n",
    "if age >=18 and age<30:\n",
    "    if gender in \"mM\":\n",
    "        wage=days*700\n",
    "    elif gender in \"Ff\":\n",
    "        wage=days*750\n",
    "    else:\n",
    "        print(\"enter valid input\")\n",
    "elif age>=30 and age<=40:\n",
    "    if gender in \"mM\":\n",
    "        wage=days*800\n",
    "    elif gender in \"fF\":\n",
    "        wage=days*850\n",
    "    else:\n",
    "        print(\"enter valid input\")\n",
    "else:\n",
    "    print(\"Enter appropriate Age\")\n",
    "print(\"Wage: \",wage)"
   ]
  },
  {
   "cell_type": "code",
   "execution_count": null,
   "metadata": {},
   "outputs": [],
   "source": [
    "\n"
   ]
  }
 ],
 "metadata": {
  "kernelspec": {
   "display_name": "Python 3",
   "language": "python",
   "name": "python3"
  },
  "language_info": {
   "codemirror_mode": {
    "name": "ipython",
    "version": 3
   },
   "file_extension": ".py",
   "mimetype": "text/x-python",
   "name": "python",
   "nbconvert_exporter": "python",
   "pygments_lexer": "ipython3",
   "version": "3.8.5"
  }
 },
 "nbformat": 4,
 "nbformat_minor": 4
}

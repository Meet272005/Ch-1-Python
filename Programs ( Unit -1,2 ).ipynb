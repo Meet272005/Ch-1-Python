{
 "cells": [
  {
   "cell_type": "markdown",
   "metadata": {},
   "source": [
    "# Programs (Unit-1,2)"
   ]
  },
  {
   "cell_type": "code",
   "execution_count": 6,
   "metadata": {},
   "outputs": [
    {
     "name": "stdout",
     "output_type": "stream",
     "text": [
      "Enter year: 2000\n",
      "leap year \n"
     ]
    }
   ],
   "source": [
    "# 1. WAP to find given year is leap year or not.\n",
    "\n",
    "y=int(input(\"Enter year: \"))\n",
    "s=\"leap year \" if y%4==0 and y%100!=0 or y%400==0 else \"not leap year\" \n",
    "print(s)"
   ]
  },
  {
   "cell_type": "code",
   "execution_count": 11,
   "metadata": {},
   "outputs": [
    {
     "name": "stdout",
     "output_type": "stream",
     "text": [
      "Airthmetic Operations\n",
      "Enter a: 5\n",
      "Enter b: 2\n",
      "choices : + - / * // % **\n",
      "Enter choice: /*/*/*/*\n",
      "a Division b is 2.5\n"
     ]
    }
   ],
   "source": [
    "# 2. WAP to perform airthmetic operations according to the choices given.\n",
    "\n",
    "print(\"Airthmetic Operations\")\n",
    "a=int(input(\"Enter a: \"))\n",
    "b=int(input(\"Enter b: \"))\n",
    "print(\"choices : + - / * // % **\")\n",
    "ch=input(\"Enter choice: \")\n",
    "\n",
    "if \"+\" in ch:\n",
    "    print(\"Addition of a & b is\",a+b)\n",
    "elif \"-\" in ch:\n",
    "    print(\"Subtraction of a & b is\",a-b)\n",
    "elif \"/\" in ch:\n",
    "    print(\"a Division b is\",a/b)\n",
    "elif \"*\" == ch:\n",
    "    print(\"Multiplication of a & b is\",a*b)\n",
    "elif \"//\" in ch:\n",
    "    print(\"Floor Division of a & b is\",a//b)\n",
    "elif \"%\" in ch:\n",
    "    print(\" a Modulo b is\",a%b)\n",
    "elif \"**\" in ch:\n",
    "    print(\"a Power b is\",a**b)"
   ]
  },
  {
   "cell_type": "code",
   "execution_count": 10,
   "metadata": {},
   "outputs": [
    {
     "name": "stdout",
     "output_type": "stream",
     "text": [
      "Enter marks of Subject : 50\n",
      "Enter marks of Subject : 75\n",
      "Enter marks of Subject : 98\n",
      "Percentage is 74.33333333333333  %\n",
      "Result\n",
      "First class\n"
     ]
    }
   ],
   "source": [
    "# 3. WAP to give grade according to marks entered\n",
    "\n",
    "m=0\n",
    "for i in range(3):\n",
    "    a=int(input(\"Enter marks of Subject : \"))\n",
    "    m=m+a\n",
    "m=(m/3)\n",
    "print(\"Percentage is\",m,\" %\")\n",
    "print(\"Result\")\n",
    "if m>=80 and m<=100:\n",
    "    print(\"Distinction\")\n",
    "elif m>=60 and m<=79:\n",
    "    print(\"First class\")\n",
    "elif m>=35 and m<=59:\n",
    "    print(\"Second class\")\n",
    "elif m>=0 and m<=34:\n",
    "    print(\"Fail\")\n",
    "else:\n",
    "    print(\"Enter Valid marks.\")"
   ]
  },
  {
   "cell_type": "code",
   "execution_count": 26,
   "metadata": {},
   "outputs": [
    {
     "name": "stdout",
     "output_type": "stream",
     "text": [
      "Enter units: 400\n",
      "Amount to Pay:  2500\n"
     ]
    }
   ],
   "source": [
    "# 4. WAP to calculate the electric bill based on the number of units entered b user.\n",
    "# First 100 units no chARGE\n",
    "# next 100 units 5 rs charge\n",
    "# next 200 units 10 rs charge\n",
    "\n",
    "unit=int(input(\"Enter units: \"))\n",
    "if unit<=100:\n",
    "   amt=0\n",
    "if unit >100 and unit<=200:\n",
    "   amt=(unit-100)*5\n",
    "if unit>200:\n",
    "  amt=500+(unit-200)*10\n",
    "print(\"Amount to Pay: \",amt)\n",
    "\n",
    "\n",
    "# OR\n",
    "\n",
    "# amount=0\n",
    "# if unit//100!=0:\n",
    "#     print(\"First 100 unit no charge.\")\n",
    "#     unit=unit-100\n",
    "# if unit//100!=0 and unit!=0:\n",
    "#     print(\"Next 100 unit 5 Rs charge.\")\n",
    "#     if unit>=100:\n",
    "#         amount=100*5\n",
    "#         unit=unit-100\n",
    "#         print(\"next 150 unit 10 Rs charge.\")\n",
    "#         amount=amount+unit*10\n",
    "#     else:\n",
    "#         amount=unit*5\n",
    "    \n",
    "# print(\"Bill amount: \",amount)"
   ]
  },
  {
   "cell_type": "code",
   "execution_count": 2,
   "metadata": {},
   "outputs": [
    {
     "name": "stdout",
     "output_type": "stream",
     "text": [
      "Enter number: 216\n",
      "Divisible by 3 \n"
     ]
    }
   ],
   "source": [
    "# 5. WAP to check whether the last digit of number entered by user is divisible 3 or not.\n",
    "\n",
    "ld=int(input(\"Enter number: \"))\n",
    "ld=ld%10\n",
    "s=\"Divisible by 3 \" if ld%3==0 else \"not divisible by 3\"\n",
    "print(s)"
   ]
  },
  {
   "cell_type": "code",
   "execution_count": 9,
   "metadata": {},
   "outputs": [
    {
     "name": "stdout",
     "output_type": "stream",
     "text": [
      "Enter number: 12\n",
      "1\n",
      "Enter 3 digit number\n"
     ]
    }
   ],
   "source": [
    "# 6. WAP to check number entered by user is 3 digit or not.\n",
    "#    if it is then display its middle digit and if not then display \"Enter 3 digit number\"\n",
    "\n",
    "i=int(input(\"Enter number: \"))\n",
    "t=i\n",
    "count=0\n",
    "\n",
    "while i!=0:\n",
    "    count=count+1\n",
    "    i=i//10\n",
    "\n",
    "if count==3:\n",
    "    t=(t//10)%10\n",
    "    print(\"MIDDLE DIGIT IS \",t)\n",
    "else:\n",
    "    print(\"Enter 3 digit number\")"
   ]
  },
  {
   "cell_type": "code",
   "execution_count": 11,
   "metadata": {},
   "outputs": [
    {
     "name": "stdout",
     "output_type": "stream",
     "text": [
      "Enter price: 55000\n",
      "Road Tax:  5500.0\n",
      "Total cost: 60500.0\n"
     ]
    }
   ],
   "source": [
    "# 7. WAP to accept the cost price of a bike and display the road tax to be paid and also display the total cost of the bike.\n",
    "\n",
    "# Cost Price               Tax\n",
    "# >100000                  15%\n",
    "# >50000 and <=100000      10%\n",
    "# <=50000                  5%\n",
    "\n",
    "price=int(input(\"Enter price: \"))\n",
    "tax=0 \n",
    "\n",
    "if price>100000:\n",
    "        tax=price*0.15\n",
    "elif price>50000 and price<=100000:\n",
    "        tax=price*0.10\n",
    "elif price<=50000:\n",
    "        tax=price*0.05\n",
    "else:\n",
    "    print(\"Not Valid\")\n",
    "    \n",
    "print(\"Road Tax: \",tax)\n",
    "print(\"Total cost:\",tax+price)"
   ]
  },
  {
   "cell_type": "code",
   "execution_count": 14,
   "metadata": {},
   "outputs": [
    {
     "name": "stdout",
     "output_type": "stream",
     "text": [
      "Enter working days: 100\n",
      "Enter absent days: 75\n",
      "Attendance percentage:  25.0 %\n",
      "Not eligible for exam\n"
     ]
    }
   ],
   "source": [
    "# 8. WAP to accept the following from the user and calculate the class attendance\n",
    "#         Total no. of working days\n",
    "#         Total no. of days for absent\n",
    "#    After calculating the percentage ,if percentage is greater than 75 display \"your are eligible for exam\" \n",
    "#    and if not display \"your are not eligible for exam\"\n",
    "\n",
    "wd=int(input(\"Enter working days: \"))\n",
    "ad=int(input(\"Enter absent days: \"))\n",
    "\n",
    "if ad>wd:\n",
    "    print(\"Enter valid input\")\n",
    "else:\n",
    "    attendance=((wd-ad)*100)/wd\n",
    "    print(\"Attendance percentage: \",attendance,\"%\")\n",
    "    s=\"Eligible for exam\" if attendance >75 else \"Not eligible for exam\"\n",
    "    print(s)    "
   ]
  },
  {
   "cell_type": "code",
   "execution_count": 22,
   "metadata": {},
   "outputs": [
    {
     "name": "stdout",
     "output_type": "stream",
     "text": [
      "Enter side 1:2\n",
      "Enter side 2:2\n",
      "Enter side 3:5\n",
      "Isosceles\n"
     ]
    }
   ],
   "source": [
    "# 9. WAP to accept the 3 sides of triangle and check wheter it is Equilateral or Isosceles and Scalene\n",
    "  \n",
    "s1=float(input(\"Enter side 1:\"))\n",
    "s2=float(input(\"Enter side 2:\"))\n",
    "s3=float(input(\"Enter side 3:\"))\n",
    "\n",
    "if s1==s2 and s2==s3:\n",
    "    print(\"Equilateral Triangle\")\n",
    "elif s1==s2 or s2==s3 or s1==s3 :\n",
    "    print(\"Isosceles Triangle\")\n",
    "elif s1!=s2 and s2!=s3:\n",
    "    print(\"Scalene Triangle\")"
   ]
  },
  {
   "cell_type": "code",
   "execution_count": 29,
   "metadata": {},
   "outputs": [
    {
     "name": "stdout",
     "output_type": "stream",
     "text": [
      "Enter age: 18\n",
      "Enter gender(M/F): m\n",
      "Enter days: 2\n",
      "Wage:  1400\n"
     ]
    }
   ],
   "source": [
    "# 10. WAP to accept the age, gender ,no. of days and display the wages.\n",
    "\n",
    "#    Age                   Gender                     Wage/day\n",
    "#  >=18 and <30              M                         700\n",
    "#                            F                         750\n",
    "# \n",
    "#  >=30 and <=40             M                         800\n",
    "#                            F                         750\n",
    "\n",
    "# if age is not fall in any range then message dhould be displayed :\"Enter appropriate Age\"\n",
    "\n",
    "age=int(input(\"Enter age: \"))\n",
    "gender=input(\"Enter gender(M/F): \")\n",
    "days=int(input(\"Enter days: \"))\n",
    "wage=0\n",
    "\n",
    "if age >=18 and age<30:\n",
    "    if gender in \"mM\":\n",
    "        wage=days*700\n",
    "    elif gender in \"Ff\":\n",
    "        wage=days*750\n",
    "    else:\n",
    "        print(\"enter valid input\")\n",
    "elif age>=30 and age<=40:\n",
    "    if gender in \"mM\":\n",
    "        wage=days*800\n",
    "    elif gender in \"fF\":\n",
    "        wage=days*850\n",
    "    else:\n",
    "        print(\"enter valid input\")\n",
    "else:\n",
    "    print(\"Enter appropriate Age\")\n",
    "print(\"Wage: \",wage)"
   ]
  },
  {
   "cell_type": "code",
   "execution_count": 6,
   "metadata": {},
   "outputs": [
    {
     "name": "stdout",
     "output_type": "stream",
     "text": [
      "Enter first no: 1\n",
      "Enter second no: 20\n",
      "Enter third no: 3\n",
      "total numbers between  20 & 20 divisible by c is 6\n"
     ]
    }
   ],
   "source": [
    "# 11 WAP to read three numbers and check how many numbers available between first two numbers are divisible by third number.\n",
    "\n",
    "a=int(input(\"Enter first no: \"))\n",
    "b=int(input(\"Enter second no: \"))\n",
    "c=int(input(\"Enter third no: \"))\n",
    "count=0 \n",
    "\n",
    "while a!=b:\n",
    "        if a%c==0 :\n",
    "            count=count+1\n",
    "        a=a+1\n",
    "\n",
    "print(\"total numbers between \",a,\"&\",b,\"divisible by c is\",count)"
   ]
  },
  {
   "cell_type": "code",
   "execution_count": 7,
   "metadata": {},
   "outputs": [
    {
     "name": "stdout",
     "output_type": "stream",
     "text": [
      "Enter n: 5\n",
      "Enter number: 2\n",
      "Enter number: 3\n",
      "Enter number: 5\n",
      "Enter number: 1\n",
      "Enter number: 4\n",
      "Sum is  15  and Average is  3.0\n"
     ]
    }
   ],
   "source": [
    "# 12. WAP to find sum of n numbers and also find average of that.\n",
    "n=int(input(\"Enter n: \"))\n",
    "sum=0\n",
    "for i in range(0,n):\n",
    "    a=int(input(\"Enter number: \"))\n",
    "    sum=sum+a\n",
    "print(\"Sum is \",sum,\" and Average is \",sum/n)"
   ]
  },
  {
   "cell_type": "code",
   "execution_count": 9,
   "metadata": {},
   "outputs": [
    {
     "name": "stdout",
     "output_type": "stream",
     "text": [
      "Enter number: 5\n",
      "5  *  1  =  5\n",
      "5  *  2  =  10\n",
      "5  *  3  =  15\n",
      "5  *  4  =  20\n",
      "5  *  5  =  25\n",
      "5  *  6  =  30\n",
      "5  *  7  =  35\n",
      "5  *  8  =  40\n",
      "5  *  9  =  45\n",
      "5  *  10  =  50\n"
     ]
    }
   ],
   "source": [
    "# 13.print table of number entered by user \n",
    "\n",
    "x=int(input(\"Enter number: \"))\n",
    "\n",
    "for i in range(1,11):\n",
    "    print(x,\" * \",i,\" = \",x*i)"
   ]
  },
  {
   "cell_type": "code",
   "execution_count": 3,
   "metadata": {},
   "outputs": [
    {
     "name": "stdout",
     "output_type": "stream",
     "text": [
      "a^x=n\n",
      "Enter a: 2\n",
      "Enter n: 1024\n",
      "x is  10\n"
     ]
    }
   ],
   "source": [
    "# 14. WAP to find an integer exponent x such that a^x=n.\n",
    "\n",
    "print(\"a^x=n\")\n",
    "a=int(input(\"Enter a: \"))\n",
    "n=int(input(\"Enter n: \"))\n",
    "count=1 \n",
    "t=a\n",
    "\n",
    "while n!=a:\n",
    "    a=a*t\n",
    "    count=count+1\n",
    "\n",
    "print(\"x is \",count)"
   ]
  },
  {
   "cell_type": "code",
   "execution_count": 10,
   "metadata": {},
   "outputs": [
    {
     "name": "stdout",
     "output_type": "stream",
     "text": [
      "Enter number: 3\n",
      "Factorial of  3  is  6\n"
     ]
    }
   ],
   "source": [
    "# 15. Wap to find the factorial of a given number.\n",
    "\n",
    "a=int(input(\"Enter number: \"))\n",
    "fact=1\n",
    "\n",
    "if a<0:\n",
    "    print(\"Only +ve numbers allowed.\")\n",
    "elif a==0 or a==1 :\n",
    "    print(\"Factorial of \",a,\"is 1\")\n",
    "else:\n",
    "    for i in range(1,a+1):\n",
    "        fact=fact*i\n",
    "    print(\"Factorial of \",a,\" is \",fact)"
   ]
  },
  {
   "cell_type": "code",
   "execution_count": 21,
   "metadata": {},
   "outputs": [
    {
     "name": "stdout",
     "output_type": "stream",
     "text": [
      "Enter n: 10\n",
      "Febonaci Sequence : 0 1 1 2 3 5 8 13 21 34 "
     ]
    }
   ],
   "source": [
    "# 16. WAP to display febonaci sequence upto nth term\n",
    "\n",
    "n=int(input(\"Enter n: \"))\n",
    "a=0\n",
    "b=1\n",
    "\n",
    "if n<=0:\n",
    "    print(\"Only +ve numbers allowed.\")\n",
    "elif n==1 :\n",
    "     print(\"Febonaci Sequence : 0\")\n",
    "else:\n",
    "    print(\"Febonaci Sequence :\",a,b,end=\" \")\n",
    "    for i in range(2,n):\n",
    "        print(a+b,end=\" \")\n",
    "        b=a+b\n",
    "        a=b-a\n",
    "        \n"
   ]
  },
  {
   "cell_type": "code",
   "execution_count": 3,
   "metadata": {},
   "outputs": [
    {
     "name": "stdout",
     "output_type": "stream",
     "text": [
      "Enter number 1:1\n",
      "Enter number 2:2\n",
      "Enter number 3:3\n",
      "Enter number 4:4\n",
      "Enter number 5:5\n",
      "Enter number 6:6\n",
      "Enter number 7:7\n",
      "Enter number 8:8\n",
      "Enter number 9:9\n",
      "Enter number 10:10\n",
      "Sum is  55  and Average is  5.5\n"
     ]
    }
   ],
   "source": [
    "# 17. WAP to take 10 numbers from user and display their sum and average.\n",
    "\n",
    "sum=0\n",
    "for i in range(1,11):\n",
    "    a=int(input(f\"Enter number {i}:\"))\n",
    "    sum=sum+a\n",
    "print(\"Sum is \",sum,\" and Average is \",sum/10)\n"
   ]
  },
  {
   "cell_type": "code",
   "execution_count": 11,
   "metadata": {},
   "outputs": [
    {
     "name": "stdout",
     "output_type": "stream",
     "text": [
      "Enter n: 3\n",
      "Enter number 1: 1\n",
      "Enter number 2: 2\n",
      "Enter number 3: 3\n",
      "Odd count is  2  and Even count is  1\n",
      "Odd sum is  4  and Even sum is  2\n"
     ]
    }
   ],
   "source": [
    "# 18. WAP to count total odd and even numbers and also do the sum of them.\n",
    "\n",
    "n=int(input(\"Enter n: \"))\n",
    "oddsum=0\n",
    "evensum=0\n",
    "oddcount=0\n",
    "evencount=0\n",
    "\n",
    "for i in range(0,n):\n",
    "    a=int(input(f\"Enter number {i+1}: \"))\n",
    "    if a%2==0:\n",
    "        evencount=evencount+1\n",
    "        evensum=evensum+a\n",
    "    else:\n",
    "        oddcount=oddcount+1\n",
    "        oddsum=oddsum+a\n",
    "print(\"Odd count is \",oddcount,\" and Even count is \",evencount)\n",
    "print(\"Odd sum is \",oddsum,\" and Even sum is \",evensum)"
   ]
  },
  {
   "cell_type": "code",
   "execution_count": 17,
   "metadata": {},
   "outputs": [
    {
     "name": "stdout",
     "output_type": "stream",
     "text": [
      "Enter n: 5\n",
      "Enter number 1: -1\n",
      "Enter number 2: -2\n",
      "Enter number 3: -3\n",
      "Enter number 4: 2\n",
      "Enter number 5: 5\n",
      "Positive count is  2  and Negative count is  3\n",
      "Postive sum is  7  and Negative sum is  -6\n"
     ]
    }
   ],
   "source": [
    "# 19. WAP to count total +ve numbers and also do the sum of them ignoring -ve numbers.\n",
    "\n",
    "n=int(input(\"Enter n: \"))\n",
    "negsum=0\n",
    "possum=0\n",
    "pos=0\n",
    "neg=0\n",
    "\n",
    "for i in range(0,n):\n",
    "    a=int(input(f\"Enter number {i+1}: \"))\n",
    "    if a>0:\n",
    "        pos=pos+1\n",
    "        possum=possum+a\n",
    "    else:\n",
    "        neg=neg+1\n",
    "        negsum=negsum+a\n",
    "print(\"Positive count is \",pos,\" and Negative count is \",neg)\n",
    "print(\"Postive sum is \",possum,\" and Negative sum is \",negsum)"
   ]
  },
  {
   "cell_type": "code",
   "execution_count": 20,
   "metadata": {},
   "outputs": [
    {
     "name": "stdout",
     "output_type": "stream",
     "text": [
      "Enter number: 125\n",
      "Reversed numver is  521\n"
     ]
    }
   ],
   "source": [
    "# 20. WAP to find reversed number of the number provided by the user.\n",
    "\n",
    "n=int(input(\"Enter number: \"))\n",
    "rev_num=0\n",
    "while n!=0:\n",
    "    digit=n%10\n",
    "    rev_num=rev_num*10+digit\n",
    "    n=n//10\n",
    "print(\"Reversed numver is \",rev_num)"
   ]
  },
  {
   "cell_type": "code",
   "execution_count": 2,
   "metadata": {},
   "outputs": [
    {
     "name": "stdout",
     "output_type": "stream",
     "text": [
      "Enter number: 121\n",
      "It is a Palindrome number\n"
     ]
    }
   ],
   "source": [
    "# 21. WAP to check given number is palindrome or not.\n",
    "\n",
    "n=int(input(\"Enter number: \"))\n",
    "t=n\n",
    "rev_num=0\n",
    "while n!=0:\n",
    "    digit=n%10\n",
    "    rev_num=rev_num*10+digit\n",
    "    n=n//10\n",
    "\n",
    "if rev_num==t:\n",
    "    print(\"It is a Palindrome number\")\n",
    "else:\n",
    "    print(\"It is not a Palindrome number\")    "
   ]
  },
  {
   "cell_type": "code",
   "execution_count": 6,
   "metadata": {},
   "outputs": [
    {
     "name": "stdout",
     "output_type": "stream",
     "text": [
      "Enter number: 1634\n",
      "It is a Armstrong number\n"
     ]
    }
   ],
   "source": [
    "# 22. WAP to check given number is Armstrong or not.\n",
    "\n",
    "i=int(input(\"Enter number: \"))\n",
    "t1=i\n",
    "t2=i\n",
    "d=0\n",
    "sum=0\n",
    "\n",
    "while i!=0:\n",
    "    d=d+1\n",
    "    i=i//10\n",
    "    \n",
    "while t1!=0:\n",
    "    digit=t1%10\n",
    "    sum=sum+digit**d\n",
    "    t1=t1//10\n",
    "    \n",
    "if sum==t2:\n",
    "     print(\"It is a Armstrong number\")\n",
    "else:\n",
    "    print(\"It is not a Armstrong number\")    "
   ]
  },
  {
   "cell_type": "code",
   "execution_count": 11,
   "metadata": {},
   "outputs": [
    {
     "name": "stdout",
     "output_type": "stream",
     "text": [
      "Enter number: 13\n",
      "It is a Prime number\n"
     ]
    }
   ],
   "source": [
    "# 23. WAP to check given number is prime or not.\n",
    " \n",
    "n=int(input(\"Enter n: \"))\n",
    "c=0\n",
    "for i in range(1,n+1):\n",
    "        if n%i==0:\n",
    "            c=c+1\n",
    "if c==2:\n",
    "    print(\"It is a Prime number\")\n",
    "else:\n",
    "    print(\"It is not a Prime number\")    "
   ]
  },
  {
   "cell_type": "code",
   "execution_count": 23,
   "metadata": {},
   "outputs": [
    {
     "name": "stdout",
     "output_type": "stream",
     "text": [
      "Enter a: 1\n",
      "Enter b: 21\n",
      "Prime number betwee 1 to 21 are:  2 3 5 7 11 13 17 19 "
     ]
    }
   ],
   "source": [
    "# 24. WAP to check a number between the range given by user is prime or not.\n",
    " \n",
    "a=int(input(\"Enter a: \"))\n",
    "b=int(input(\"Enter b: \"))\n",
    "print(\"Prime number betwee\",a,\"to\",b,\"are: \",end=\" \")\n",
    "for j in range(a,b+1):\n",
    "    c=0\n",
    "    for i in range(1,j+1):\n",
    "            if j%i==0:\n",
    "                c=c+1\n",
    "    if c==2:\n",
    "        print(j,end=\" \")   "
   ]
  },
  {
   "cell_type": "code",
   "execution_count": null,
   "metadata": {},
   "outputs": [],
   "source": []
  }
 ],
 "metadata": {
  "kernelspec": {
   "display_name": "Python 3",
   "language": "python",
   "name": "python3"
  },
  "language_info": {
   "codemirror_mode": {
    "name": "ipython",
    "version": 3
   },
   "file_extension": ".py",
   "mimetype": "text/x-python",
   "name": "python",
   "nbconvert_exporter": "python",
   "pygments_lexer": "ipython3",
   "version": "3.8.5"
  }
 },
 "nbformat": 4,
 "nbformat_minor": 4
}

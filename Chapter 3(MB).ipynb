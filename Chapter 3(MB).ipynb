{
 "cells": [
  {
   "cell_type": "markdown",
   "metadata": {},
   "source": [
    "# Unit-3️⃣ Functions"
   ]
  },
  {
   "cell_type": "markdown",
   "metadata": {},
   "source": [
    "Syntax: \n",
    "\n",
    "    def function_name(Parameter):\n",
    "        body of Function\n",
    "        return Value"
   ]
  },
  {
   "cell_type": "code",
   "execution_count": 9,
   "metadata": {},
   "outputs": [
    {
     "name": "stdout",
     "output_type": "stream",
     "text": [
      "Hello Meet ,Good morning\n"
     ]
    }
   ],
   "source": [
    "# Example:\n",
    "\n",
    "def wish(name):\n",
    "    print(\"Hello\",name,\",Good morning\")\n",
    "wish(\"Meet\")\n",
    "# wish() TypeError "
   ]
  },
  {
   "cell_type": "markdown",
   "metadata": {},
   "source": [
    "**(1) Function with no parmeter and no return type**\n",
    "\n",
    "eg.\n",
    "    def printline(): \n",
    "    \n",
    "        s=input(\"Enter name: \")\n",
    "        print(s)\n",
    "        \n",
    "    printline()\n",
    "    \n",
    "**(2) Function with parmeter and no return type**\n",
    "\n",
    "eg.\n",
    "    def printline(s):\n",
    "    \n",
    "        print(s)\n",
    "        \n",
    "    x=input(\"Enter name: \")\n",
    "    printline()\n",
    "    \n",
    "**(3) Function with parmeter and return type**\n",
    "\n",
    "eg.\n",
    "    def printline(s):\n",
    "    \n",
    "          return(s)\n",
    "        \n",
    "    x=input(\"Enter name: \")\n",
    "    t=printline()\n",
    "    print(t)\n",
    "    \n",
    "**(4) Function with no parmeter and return type**\n",
    "\n",
    "eg.\n",
    "    def printline():\n",
    "\n",
    "        s=input(\"Enter name: \")\n",
    "        return(s)\n",
    "        \n",
    "    t=printline()\n",
    "    print(t)"
   ]
  },
  {
   "cell_type": "code",
   "execution_count": 17,
   "metadata": {},
   "outputs": [
    {
     "name": "stdout",
     "output_type": "stream",
     "text": [
      "(30, -10, 200, 0.5)\n",
      "30\n",
      "150 -50 5000 0.5\n"
     ]
    }
   ],
   "source": [
    "# Example\n",
    "\n",
    "def calc(a,b):\n",
    "    sum=a+b\n",
    "    min=a-b\n",
    "    mul=a*b\n",
    "    div=a/b\n",
    "    return sum,min,mul,div\n",
    "t=calc(10,20)\n",
    "print(t)\n",
    "# or\n",
    "print(t[0])\n",
    "# or\n",
    "a,b,c,d=calc(50,100)\n",
    "# a,b,c=calc(50,100) ValueError \n",
    "print(a,b,c,d)\n"
   ]
  },
  {
   "cell_type": "code",
   "execution_count": 22,
   "metadata": {},
   "outputs": [
    {
     "name": "stdout",
     "output_type": "stream",
     "text": [
      "Enter n: 5\n",
      "Odd\n"
     ]
    }
   ],
   "source": [
    "# WAP to make function to check odd or even number.\n",
    "\n",
    "def check(n):\n",
    "    if n%2==0:\n",
    "        return \"Even\"\n",
    "    else:\n",
    "        return \"Odd\"        \n",
    "    \n",
    "print(check(int(input(\"Enter n: \"))))"
   ]
  },
  {
   "cell_type": "markdown",
   "metadata": {},
   "source": [
    "### Function Specification"
   ]
  },
  {
   "cell_type": "markdown",
   "metadata": {},
   "source": [
    "*  **DocString -->**  The tex between the triple qoutation marks is called a docstring in python. It is used to provide Specification of functions."
   ]
  },
  {
   "cell_type": "code",
   "execution_count": 4,
   "metadata": {},
   "outputs": [
    {
     "name": "stdout",
     "output_type": "stream",
     "text": [
      "Argument passed into X returns X Squared\n",
      "Returns the sum of two decimal number\n",
      "       Parameters:\n",
      "           a(int):A decimal number\n",
      "           b(int):Another decimal number\n",
      "       Returns:\n",
      "           Sum:sum of a and b\n",
      "           \n"
     ]
    }
   ],
   "source": [
    "# Example\n",
    "\n",
    "def Squared_number(X):\n",
    "    \"\"\"Argument passed into X returns X Squared\"\"\"\n",
    "    return X*X\n",
    "print(Squared_number.__doc__)\n",
    "    \n",
    "#     Multiline DocString\n",
    "def add(a,b):\n",
    "    \"\"\"Returns the sum of two decimal number\n",
    "       Parameters:\n",
    "           a(int):A decimal number\n",
    "           b(int):Another decimal number\n",
    "       Returns:\n",
    "           Sum:sum of a and b\n",
    "           \"\"\"\n",
    "    sum=a+b\n",
    "    return sum\n",
    "print(add.__doc__)"
   ]
  },
  {
   "cell_type": "markdown",
   "metadata": {},
   "source": [
    "### Types of Argument  "
   ]
  },
  {
   "cell_type": "markdown",
   "metadata": {},
   "source": [
    " **1. <u>Postional Argument</u>**"
   ]
  },
  {
   "cell_type": "code",
   "execution_count": 5,
   "metadata": {},
   "outputs": [
    {
     "name": "stdout",
     "output_type": "stream",
     "text": [
      "-100\n",
      "100\n"
     ]
    }
   ],
   "source": [
    "def sub(a,b):\n",
    "    print(a-b)\n",
    "    \n",
    "sub(100,200)\n",
    "sub(200,100)"
   ]
  },
  {
   "cell_type": "markdown",
   "metadata": {},
   "source": [
    " **2. <u>Keyword Argument</u>**"
   ]
  },
  {
   "cell_type": "code",
   "execution_count": 8,
   "metadata": {},
   "outputs": [
    {
     "name": "stdout",
     "output_type": "stream",
     "text": [
      "Hello Arman Good morning\n",
      "Hello Arman Good morning\n",
      "Hello Arman Good morning\n",
      "Hello Arman Good morning\n"
     ]
    }
   ],
   "source": [
    "def wish(name,msg):\n",
    "    print(\"Hello\",name,msg)\n",
    "    \n",
    "wish(name=\"Arman\",msg=\"Good morning\")\n",
    "wish(msg=\"Good morning\",name=\"Arman\")\n",
    "wish(\"Arman\",\"Good morning\")\n",
    "wish(\"Arman\",msg=\"Good morning\")\n",
    "# wish(name=\"Arman\",\"Good morning\") SyntaxError: positional argument follows keyword argument"
   ]
  },
  {
   "cell_type": "markdown",
   "metadata": {},
   "source": [
    " **3. <u>Default Argument</u>**"
   ]
  },
  {
   "cell_type": "code",
   "execution_count": 9,
   "metadata": {},
   "outputs": [
    {
     "name": "stdout",
     "output_type": "stream",
     "text": [
      "Hello Arman Good morning\n",
      "Hello Guest Good morning\n"
     ]
    }
   ],
   "source": [
    "def wish(name=\"Guest\"):\n",
    "    print(\"Hello\",name,\"Good morning\")\n",
    "    \n",
    "wish(\"Arman\")\n",
    "wish()"
   ]
  },
  {
   "cell_type": "markdown",
   "metadata": {},
   "source": [
    " **4. <u>Variable length Argument</u>**"
   ]
  },
  {
   "cell_type": "code",
   "execution_count": 13,
   "metadata": {},
   "outputs": [
    {
     "name": "stdout",
     "output_type": "stream",
     "text": [
      "the sum = 0\n",
      "the sum = 10\n",
      "the sum = 30\n",
      "the sum = 60\n",
      "the sum = 100\n",
      "the sum = 150\n"
     ]
    }
   ],
   "source": [
    "def sum(*n):\n",
    "    total=0\n",
    "    for n1 in n:\n",
    "        total+=n1\n",
    "    print(\"the sum =\",total)\n",
    "    \n",
    "sum() \n",
    "sum(10)    \n",
    "sum(10,20)\n",
    "sum(10,20,30)\n",
    "sum(10,20,30,40)\n",
    "sum(10,20,30,40,50)"
   ]
  },
  {
   "cell_type": "code",
   "execution_count": 45,
   "metadata": {},
   "outputs": [
    {
     "name": "stdout",
     "output_type": "stream",
     "text": [
      "10 *\n",
      "10 *\n",
      "A\n",
      "20\n",
      "B\n",
      "30 *\n",
      "10\n",
      "20\n",
      "B *\n",
      "10\n",
      "A\n",
      "20\n"
     ]
    }
   ],
   "source": [
    "def sum(n1,*s):\n",
    "    print(n1,\"*\")\n",
    "    for s1 in s:\n",
    "        print(s1)\n",
    "        \n",
    "# sum() TypeError: sum() missing 1 required positional argument: 'n1'\n",
    "sum(10)    \n",
    "sum(10,\"A\",20,\"B\")\n",
    "\n",
    "def sum(*s,n1):\n",
    "    print(n1,\"*\")\n",
    "    for s1 in s:\n",
    "        print(s1)\n",
    "\n",
    "# sum(10)    TypeError: sum() missing 1 required keyword-only argument: 'n1'\n",
    "sum(10,20,n1=30)\n",
    "sum(10,\"A\",20,n1=\"B\")"
   ]
  },
  {
   "cell_type": "code",
   "execution_count": 44,
   "metadata": {},
   "outputs": [
    {
     "name": "stdout",
     "output_type": "stream",
     "text": [
      "{'m1': 200, 'm2': 300}\n",
      "m1\n",
      "m2\n",
      "200\n",
      "300\n",
      "m1 200\n",
      "m2 300\n"
     ]
    }
   ],
   "source": [
    "# Kwargs\n",
    "\n",
    "def display(**kwargs):\n",
    "    print(kwargs) #Dictionary\n",
    "    for k in kwargs.keys():\n",
    "        print(k)\n",
    "    for k in kwargs.values():\n",
    "        print(k)\n",
    "    for i,j in kwargs.items():\n",
    "        print(i,j)\n",
    "        \n",
    "display(m1=200,m2=300)"
   ]
  }
 ],
 "metadata": {
  "kernelspec": {
   "display_name": "Python 3",
   "language": "python",
   "name": "python3"
  },
  "language_info": {
   "codemirror_mode": {
    "name": "ipython",
    "version": 3
   },
   "file_extension": ".py",
   "mimetype": "text/x-python",
   "name": "python",
   "nbconvert_exporter": "python",
   "pygments_lexer": "ipython3",
   "version": "3.8.5"
  }
 },
 "nbformat": 4,
 "nbformat_minor": 4
}
